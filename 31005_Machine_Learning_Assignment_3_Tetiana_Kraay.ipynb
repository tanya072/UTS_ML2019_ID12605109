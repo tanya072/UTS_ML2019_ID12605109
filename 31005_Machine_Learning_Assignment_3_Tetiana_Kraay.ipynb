{
  "nbformat": 4,
  "nbformat_minor": 0,
  "metadata": {
    "colab": {
      "name": "31005 Machine Learning Assignment 3_Tetiana Kraay.ipynb",
      "provenance": [],
      "collapsed_sections": [],
      "toc_visible": true,
      "include_colab_link": true
    },
    "kernelspec": {
      "name": "python3",
      "display_name": "Python 3"
    }
  },
  "cells": [
    {
      "cell_type": "markdown",
      "metadata": {
        "id": "view-in-github",
        "colab_type": "text"
      },
      "source": [
        "<a href=\"https://colab.research.google.com/github/tanya072/UTS_ML2019_ID12605109/blob/master/31005_Machine_Learning_Assignment_3_Tetiana_Kraay.ipynb\" target=\"_parent\"><img src=\"https://colab.research.google.com/assets/colab-badge.svg\" alt=\"Open In Colab\"/></a>"
      ]
    },
    {
      "cell_type": "code",
      "metadata": {
        "id": "CylwoYw6rZsA",
        "colab_type": "code",
        "outputId": "ecad03d4-7340-49d7-f9cc-4fe524dece56",
        "colab": {
          "base_uri": "https://localhost:8080/",
          "height": 124
        }
      },
      "source": [
        "from google.colab import drive\n",
        "drive.mount('/content/drive')"
      ],
      "execution_count": 0,
      "outputs": [
        {
          "output_type": "stream",
          "text": [
            "Go to this URL in a browser: https://accounts.google.com/o/oauth2/auth?client_id=947318989803-6bn6qk8qdgf4n4g3pfee6491hc0brc4i.apps.googleusercontent.com&redirect_uri=urn%3Aietf%3Awg%3Aoauth%3A2.0%3Aoob&scope=email%20https%3A%2F%2Fwww.googleapis.com%2Fauth%2Fdocs.test%20https%3A%2F%2Fwww.googleapis.com%2Fauth%2Fdrive%20https%3A%2F%2Fwww.googleapis.com%2Fauth%2Fdrive.photos.readonly%20https%3A%2F%2Fwww.googleapis.com%2Fauth%2Fpeopleapi.readonly&response_type=code\n",
            "\n",
            "Enter your authorization code:\n",
            "··········\n",
            "Mounted at /content/drive\n"
          ],
          "name": "stdout"
        }
      ]
    },
    {
      "cell_type": "markdown",
      "metadata": {
        "id": "iAG6Ev8ArxNP",
        "colab_type": "text"
      },
      "source": [
        "# The popularity of Twitter messages: How to predict\n",
        "**Assignment 3**\n",
        "\n",
        "*31005 Machine Learning*\n"
      ]
    },
    {
      "cell_type": "markdown",
      "metadata": {
        "id": "nh1qalMLr4qF",
        "colab_type": "text"
      },
      "source": [
        "## Introduction\n",
        "\n",
        "Nowadays the world is connected via modern social networks like Twitter, Facebook, Instagram and others. For instance, well-known ‘six degrees of separation’ theory (Milgram 1967) states that everyone on this planet is separated with another person with only six other people. This separation distance becomes even shorter with emerging such social network like Twitter which signifies the strong interlinking among users and definitely bring us with many benefits but also challenges. \n",
        "\n",
        "A tweet is the most basic message that spreads on Twitter social network. Tweets are interesting because they have some certain features: they are small in length (about up to 280 characters) which makes retweet operation lightweight and Twitter ideal information dissemination platform.\n",
        "\n",
        "To predict the popularity of tweet messages is important for a number of tasks such as breaking news, personalized message recommendation, viral marketing, generating donations and others. The prediction of popularity of tweets is not a novel idea but it was discovered that feature content or visual media is largely overlooked for the tweet popularity prediction problem. The report will investigate what kind of factors affect the messages propagation in Twitter, how all possible data modalities within these messages can be utilized to achieve better performance of predicting model and what problems related to predicting and constructing tweets can be indicated followed by ethical and social consequences of the study. \n",
        "\n"
      ]
    },
    {
      "cell_type": "markdown",
      "metadata": {
        "id": "elY-Ppmvmw0c",
        "colab_type": "text"
      },
      "source": [
        "## Problems \n",
        "There are some issues related to tweets popularity prediction listed as follows:\n",
        "1.\tIdentifying the set of features that are most important for popularity prediction. Some authors rely heavily on personality traits of the person who tweets (social modalities), others base their prediction on evaluating visual or textual content of the message versa context (a hashtag for specific events, topic or memes).\t\n",
        "2.\tSelecting an appropriate and effective prediction model or classification method whether it is Naïve Bayes and Logistic Regression or SVM and deep learning techniques.\n",
        "3.\tDistinguishing tweets context depending on the region and the language to faicilitate identifying the geographic locations for the information shared on microblogging services.\n",
        "4.\tTime consuming process in terms of obtaining statistics from Twitter streaming API which can be limited to a maximum of 900 requests per 15 min as a result of enforcing strict security measures due to cases of privacy violations and data misuse on Twitter.\n"
      ]
    },
    {
      "cell_type": "markdown",
      "metadata": {
        "id": "SDqGPCdosjVu",
        "colab_type": "text"
      },
      "source": [
        "## Methods to predict tweets popularity"
      ]
    },
    {
      "cell_type": "markdown",
      "metadata": {
        "id": "zxG5KmIZ4lNJ",
        "colab_type": "text"
      },
      "source": [
        "### Multimodal Neural Network\n",
        "#### Model description\n",
        "\n",
        "To predict whether a tweet will go viral or not Wang et al. (2018) describe in their study a multimodal neural network model that uses textual and visual content together with author’s social features. The social features of influential and active users can significantly increase the speed and breadth with what the tweet is spread across the net. Some experiments with tweets popularity prediction state that image features trained on deep networks improved the performance of prediction (Deza & Parikh, 2015) which inspired Wang et al. (2018) to combine visual, textual and social cues in their multimodal model. \n",
        "\n",
        "The model is constructed with two modules: pre-trained on ImageNet and fine-tuned on Twitter messages Convolutional Neural Network (CNN Inception-ResNet) for image modelling and specifically trained on tweet-style language Long Short-Term Memory Recurrent Neural Network (LSTM-RNN) for textual features extraction. The model then deep learns shared semantic relationships between text and image features using a joint-embedded model that map different modality features into one space (Figure 1.) A novel Poisson regression model for predicting retweet count based on all available data modalities where all feature content is used together with social cues to feed the Poisson Regression model. Retweet count then predicted in the dynamic scenario, where the early retweeting process is known with dynamics RNN model. Dynamics RNN model learns the temporal propagation of tweet and smoothly merges tweet’s content with social features of the user.\n",
        "\n",
        "\n",
        "\n",
        "<a href=\"https://ibb.co/Bz8Sbff\"><img src=\"https://i.ibb.co/4mB5zFF/image1.jpg\" alt=\"image1\" border=\"0\"></a>\n",
        "\n",
        "Figure 1. Multimodal neural network to predict tweets popularity (Wang et al. 2018)\n",
        "\n",
        "#### Dataset\n",
        "\n",
        "14 million tweets containing over 3 million images collected in 2015 were used to train, validate and test the model divided on 80%/10%/10% subsets respectively, and 10 million tweets containing 2 million images from 2016 were used for evaluation purposes only. Every collected tweet is written in English and contains at least one image. Images then resized to 299x299 pixels for feeding them in Inception-ResNet CNN model. Textual data is pre-processed by simplifying hashtags, numbers and usernames.\n",
        "\n",
        "\n",
        "#### Model Evaluation\n",
        "\n",
        "For the model evaluation the Spearman’s ranking correlation and mean absolute percentage error (MAPE) are selected. According to Wang et al. (2018) results of the experiment, the multimodal model outperforms (see Table 1) comparing to baseline methods described in other studies. When utilizing all available data modalities (text, image, social cues and propagation speed), the model shows the best performance. \n",
        "\n",
        "<a href=\"http://www.freeimagehosting.net/commercial-photography/\"><img src=\"https://i.imgur.com/W56WxhH.jpg\" alt=\"Commercial Photography\"></a>\n",
        "\n",
        "Table 1. Comparison of the multimodal neural network model against other baseline content-based methods (Wang et al. 2018. Spearman's ranking: highest is the best, MAPE: lowest is the best.\n",
        "\n",
        "#### Attributes\n",
        "\n",
        "Additional findings on the common attributes that are influencing tweets popularity are discovered during the experiment and listed as follows: \n",
        "\n",
        "\n",
        "*   visual - *animal, not beautiful, sexual, containing text, synthetically generated*. The messages containing images with animals, generated by composing multiple images or images with description are more likely to go viral;\n",
        "*   textual - *political, religious, emotional, having emoji, having Twitter slang, having URL* where political and URL are identified as the most influential.\n",
        "\n",
        "Wang et al. (2018) in their experiment of studying the prediction of tweets popularity discovered that just by combining multimodal features is not enough to improve the prediction rate but applying joint-embedding model with Poisson regression method illustrate remarkable performance of the model on multiple datasets.\n"
      ]
    },
    {
      "cell_type": "markdown",
      "metadata": {
        "id": "DGB4bh6YjK2E",
        "colab_type": "text"
      },
      "source": [
        "### Retweet Predictive Model\n",
        "\n",
        "#### Model Description\n",
        "\n",
        "To introduce another approach in tweet messages popularity prediction, the Retweet Predictive Model is chosen as an attempt to determine strong relation between specific features of tweets (Oliveira et al. 2019). The experiment aims two goals: investigate how distinct number of textual features can affect the tweet’s popularity and the second, is to find out whether the past activity of the user influences the tweet’s popularity or not. The classification model is constructed based on dividing the tweets on four classes, from Class 0 (no popularity or 0 retweets), Class 2 (low popularity less than 10), Class 3 (medium popularity from 10 to 100 retweets) and Class 4 (high popularity more 100 retweets). Tweets are collected with Twitter Streaming API and Twitter Search API followed by sentimental analysis and then dataset is split on training/test subsets and fitted to Random Forest classifier as a machine learning component of the model which includes 300 decision trees with 80/20 ratio (Figure 2).\n",
        "\n",
        "<a href=\"http://www.freeimagehosting.net/commercial-photography/\"><img src=\"https://i.imgur.com/t4yCfAw.jpg\" alt=\"Commercial Photography\"></a>\n",
        "\n",
        "Figure 2. Retweet predictive model (Oliveira et al. 2019)\n",
        "\n",
        "#### Dataset\n",
        "\n",
        "The dataset contains 12,470,144 tweets in English that collected in July 2016. Four classes of tweets are shown in Table 2 which clearly states that the dataset is imbalanced. The imbalanced dataset issue is quite common and needs to be fixed for further manipulation with data. To address the issue Oliveira et al. (2019) apply two different techniques for selecting training data: class balancing and sub-class balancing. \n",
        "\n",
        "<a href=\"http://www.freeimagehosting.net/commercial-photography/\"><img src=\"https://i.imgur.com/heWBTYB.jpg\" alt=\"Commercial Photography\"></a>\n",
        "\n",
        "Table 2. Tweets distribution among four classes (Oliveira et al. 2019)\n",
        "\n",
        "#### Attributes\n",
        "\n",
        "All attributes in this experiment belong to only two groups: user features and tweet features. User features include number of followers, statuses (tweets/retweets), favourites, times the user was listed, days of the account and binary feature whether the user is verified or not. Besides such tweet features as number of hashtags, URLs, mentions, length of the tweets, number of words in the tweet, is a tweet a reply, hour of the tweet timestamp, the new features are added: the number of videos, number of photos and GIFs. It is a sensible addition to the set of attributes since previous study (Wang et al. 2018) claims that users are more likely to be interested in tweets with visual content.\n",
        "\n",
        "\n",
        "#### Model Evaluation\n",
        "\n",
        "In this study for the model evaluation F1 score is used as evaluation metric. Results are shown in Table 3 where tweets with different textual content in four classes are evaluated by certain F1 score measurement.\n",
        "It is seen from the Table 3 that class 1 and 4 illustrate the higher score for  short tweets. The results do not state clearly why classes 1 (not popular tweets) and 4 (highly popular tweets) perform better in any group of tweets, whether it is a result of imbalanced structure of the dataset or other reasons. \n",
        "The idea to use Random Forest as a classifier for textual information is not new and widely utilized in machine learning. However, some issues with Oliveira et al. (2019) experiement and evaluation of the model are emerged that make conclusions obscure and ambiguous. \n",
        "\n",
        "<a href=\"http://www.freeimagehosting.net/commercial-photography/\"><img src=\"https://i.imgur.com/ndK2kP3.jpg\" alt=\"Commercial Photography\"></a>\n",
        "\n",
        "Table 3. F1 score metric results depending on the textual content of tweets (Oliveira et al. 2019)"
      ]
    },
    {
      "cell_type": "markdown",
      "metadata": {
        "id": "ctjB43S2-6e8",
        "colab_type": "text"
      },
      "source": [
        "## Ethical and social consequences\n",
        "\n",
        "Recent enforcing of strict security measures by major social networks such as Twitter and Facebook when only limited data can be requested through highly monitored API implementations was introduced after Cambridge analytical data scandal related to leaking the personal data of millions of Facebook users. Personal data release becomes the major ethical issue in the social networking world. People trust their sensitive and sometimes intimate information to the public online services where it can be misused or used in an illegitimate way. Most vulnerable users in this sense are influential users whose reputation can be damaged with creating fake accounts and spread illegitimate or provocative information from these accounts. To avoid this, influential users have an option to verify their accounts. However, the verification is only available for users with high retweet rate. Others are still under the threat of being exposed or defamed. To protect their users from exposing or misusing their personal information, in addition to enforced laws in accessibility of data from API, qualitative research in social media should be implemented in determining actionable tweets and users among of spam messages applying light and stateless algorithms. \n",
        "\n",
        "The social impact of social networking is hard to overestimate. From global challenge where users generate millions of dollars for charity needs to Twitter polls in news debates give Twitter audience the sense of inclusion and power to impact on life events. People in needs often reach the Twitter community for help. On the other hand, there are some disturbing signs of social networking popularity. Rough users such as extremists and spammers use networks for their illegal purposes and go unnoticed. Some people having issues with comparing themselves with influential users in the network, finding the sharply contrast between their life’s styles and become depressed, especially young people. \n",
        "\n",
        "Users who share their personal information online should consider the consequences of the social and ethical issues social networking presents. They should be aware of all the threats they may be subjected to.\n"
      ]
    },
    {
      "cell_type": "markdown",
      "metadata": {
        "id": "9Gb6qgNrShhk",
        "colab_type": "text"
      },
      "source": [
        "## Discussion\n",
        "\n",
        "Further developments in designing the viable classification model to predict the popularity of Twitter messages indicate even more findings and observations. Not only combination of identity/social/timing /topic features is important but also wording, precisely how the message is conveyed rather than what it contains, is crucial component on deciding how fast message will spread. In their studies Tan et al. (2014) discovered that the same user posts multiple tweets regarding the same URL within the short period of time. That explains that just mentioning URL in the message does not impact tweet’s virality but namely the description or wording in the tweet that increases the retweet rate. \n",
        "\n",
        "In contrary to experiments described above, some studies investigate the set of non-Twitter-specific features that can promote better construction of the message such as explicit request to retweet the message. Informativeness of the tweet is quite important as well but the message should be constructed in a concise and refined way. While distinctive or disruptive messages are more likely to be shared than others, tweets with conforming content have high chances to become popular too due to their familiarity. Imitating new headlines, using words or part of speech related to already popular tweets, including positive or negative opinion, easiness to read is not a complete list of techniques that according to many previous studies, have some degree of an impact on the message propagation.\n",
        "Understanding the fundamental psychological and cultural aspects should become a priority in establishing these features and attributes.\n"
      ]
    },
    {
      "cell_type": "markdown",
      "metadata": {
        "id": "Il4KfSdQmz1X",
        "colab_type": "text"
      },
      "source": [
        "## Conclusion\n",
        "\n",
        "This report investigates the problem of popularity prediction for Twitter messages. Two independent experiments are discussed here with detailed demonstration of prediction models components and results obtained during the experiments. Initial findings introduce no new ideas than was discovered before however bring certain insights in what features and components of tweets might be crucial when deciding on their creation and content. Various techniques and methods in prediction of the popularity of tweets are used now and will be adapted even further by marketing and advertising companies as it attracts more customers and contributes to the company’s reputation."
      ]
    },
    {
      "cell_type": "markdown",
      "metadata": {
        "id": "E-L4cYURm28J",
        "colab_type": "text"
      },
      "source": [
        "## References\n",
        "\n",
        "Deza, A. & Parikh, D. 2015, ‘Understanding image virality’, *IEEE Conference on Computer Vision and\n",
        "Pattern Recognition (CVPR)*.  \n",
        "\n",
        "Ma, Z., Sun, A. & Cong, G. 2013, ‘On Predicting the Popularity of Newly Emerging Hashtags in \n",
        "Twitter’, *Journal of the American Society for Information Science and Technology*, vol. 64,\n",
        " no.7, pp. 1399 -1410.\n",
        " \n",
        "Milgram, S. & Travers, J. 1967, ‘The small world problem’, *Psychology Today*, vol. 1, no. 1, \n",
        "pp. 61-67.\n",
        "\n",
        "Oliveira, N., Costa, J., Silva, C. & Ribeiro, B. 2019, ‘Retweet Predictive Model for Predicting the\n",
        " Popularity of Tweets’, Proceedings of the Tenth International Conference on Soft Computing\n",
        " and Pattern Recognition (SoCPaR 2018) *italicized text*, pp. 185-193.\n",
        " \n",
        "Tan, C., Lee, L. & Pang. B. 2014, ‘The effect of wording on message propagation: Topic- and author-\n",
        "controlled natural experiments on Twitter’, *Proceedings of ACL (2014)*.\n",
        "\n",
        "Wang, K., Bansal, M. & Frahm, J.-M. 2018, ‘Retweet Wars: Tweet Popularity via Dynamic Multimodal \n",
        "Regression’, *Proceedings of the IEEE Winter Conference on Applications of Computer Vision*, \n",
        "vol.2018, pp.1842-1851.\n"
      ]
    }
  ]
}